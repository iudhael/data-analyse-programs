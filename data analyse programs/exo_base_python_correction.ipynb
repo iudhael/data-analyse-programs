{
 "cells": [
  {
   "cell_type": "markdown",
   "metadata": {},
   "source": [
    "exo 1 et 2"
   ]
  },
  {
   "cell_type": "code",
   "execution_count": 1,
   "metadata": {
    "collapsed": true
   },
   "outputs": [],
   "source": [
    "from random import randint"
   ]
  },
  {
   "cell_type": "code",
   "execution_count": 2,
   "metadata": {
    "collapsed": true
   },
   "outputs": [],
   "source": [
    "def devinette():\n",
    "    nbr = randint(0, 100)\n",
    "    return nbr"
   ]
  },
  {
   "cell_type": "code",
   "execution_count": 4,
   "metadata": {},
   "outputs": [
    {
     "name": "stdout",
     "output_type": "stream",
     "text": [
      "8\n",
      "Deviné l'entier : 8\n",
      "exact\n"
     ]
    }
   ],
   "source": [
    "nombre = devinette()\n",
    "print(nombre)\n",
    "chance = 1\n",
    "while ((chance != 3)):\n",
    "    choix = int(input(\"Deviné l'entier : \"))\n",
    "    if choix > nombre:\n",
    "        print(\"Trop grand\")\n",
    "        chance +=1\n",
    "        print(chance)\n",
    "    elif choix < nombre : \n",
    "        print(\"Trop petit\")\n",
    "        chance +=1\n",
    "        print(chance)\n",
    "    else:\n",
    "        print(\"exact\")\n",
    "        break\n",
    "    if chance == 3:\n",
    "        print(\"vous avez epuisez vos chaces\")"
   ]
  },
  {
   "cell_type": "markdown",
   "metadata": {},
   "source": [
    "exo 3"
   ]
  },
  {
   "cell_type": "code",
   "execution_count": 7,
   "metadata": {},
   "outputs": [
    {
     "name": "stdout",
     "output_type": "stream",
     "text": [
      "9\n"
     ]
    }
   ],
   "source": [
    "val_list = [4,5]\n",
    "def somme(liste):\n",
    "    total = 0\n",
    "    for i, v in enumerate(liste):\n",
    "        total += v\n",
    "    return total\n",
    "print(somme(val_list))"
   ]
  },
  {
   "cell_type": "markdown",
   "metadata": {},
   "source": [
    "exo 4"
   ]
  },
  {
   "cell_type": "code",
   "execution_count": null,
   "metadata": {
    "collapsed": true
   },
   "outputs": [],
   "source": [
    "prenom = input(\"Votre prénom : \").lower()\n",
    "nom = input(\"Votre nom : \").lower()\n",
    "email = prenom+\"_\"+nom+\"@pythonboss.com\"\n",
    "print(f\"Votre email est : {email}\")"
   ]
  },
  {
   "cell_type": "markdown",
   "metadata": {},
   "source": [
    "exo 5"
   ]
  },
  {
   "cell_type": "code",
   "execution_count": 8,
   "metadata": {},
   "outputs": [
    {
     "name": "stdout",
     "output_type": "stream",
     "text": [
      "Saisissez la chaine à ordonnée : python\n",
      "hnopty\n"
     ]
    }
   ],
   "source": [
    "def ordonne_str(chaine):\n",
    "    chaine_ordonne = \"\".join(sorted(chaine))\n",
    "    return chaine_ordonne\n",
    "\n",
    "chaine = input(\"Saisissez la chaine à ordonnée : \")\n",
    "print(ordonne_str(chaine))"
   ]
  },
  {
   "cell_type": "markdown",
   "metadata": {},
   "source": [
    "exo 6"
   ]
  },
  {
   "cell_type": "code",
   "execution_count": 10,
   "metadata": {},
   "outputs": [
    {
     "name": "stdout",
     "output_type": "stream",
     "text": [
      "Saisissez la chaine : python\n",
      "pthn\n"
     ]
    }
   ],
   "source": [
    "def sans_voyelle(chaine):\n",
    "    voyelle = ['a', 'e', 'i', 'o', 'u', 'y']\n",
    "    chaine2 = \"\"\n",
    "    for cat in chaine:\n",
    "        if cat not in voyelle :\n",
    "            chaine2 += cat\n",
    "            \n",
    "    return chaine2\n",
    "\n",
    "chaine = input(\"Saisissez la chaine : \")\n",
    "print(sans_voyelle(chaine))"
   ]
  },
  {
   "cell_type": "markdown",
   "metadata": {},
   "source": [
    "exo 7"
   ]
  },
  {
   "cell_type": "code",
   "execution_count": 11,
   "metadata": {},
   "outputs": [
    {
     "name": "stdout",
     "output_type": "stream",
     "text": [
      "Saisissez la chaine : il fait tres beau ce matin\n",
      "l fat trs ba c matn\n"
     ]
    }
   ],
   "source": [
    "def sans_voyelle(chaine):\n",
    "    voyelle = ['e', 'i', 'o', 'u', 'y']\n",
    "    chaine2 = \"\"\n",
    "    chaine = chaine.lower()\n",
    "    for cat in chaine:\n",
    "        if cat not in voyelle :\n",
    "            chaine2 += cat\n",
    "            \n",
    "    return chaine2\n",
    "\n",
    "chaine = input(\"Saisissez la chaine : \")\n",
    "print(sans_voyelle(chaine))"
   ]
  },
  {
   "cell_type": "markdown",
   "metadata": {},
   "source": [
    "exo 8"
   ]
  },
  {
   "cell_type": "code",
   "execution_count": 12,
   "metadata": {},
   "outputs": [
    {
     "name": "stdout",
     "output_type": "stream",
     "text": [
      "[1, 10]\n"
     ]
    }
   ],
   "source": [
    "def debut_fin(var):\n",
    "    if isinstance(var,str) == True:\n",
    "        new_var = var[0]+var[-1]\n",
    "        return new_var\n",
    "    elif isinstance(var,tuple) == True:\n",
    "        new_var = (var[0], var[-1])\n",
    "        return new_var\n",
    "    else:\n",
    "        if isinstance(var,list) == True:\n",
    "            new_var = [var[0], var[-1]]\n",
    "            return new_var\n",
    "    \n",
    "chaine = [1,6,2,4,7,10]\n",
    "\n",
    "print(debut_fin(chaine))"
   ]
  },
  {
   "cell_type": "markdown",
   "metadata": {},
   "source": [
    "exo 9"
   ]
  },
  {
   "cell_type": "code",
   "execution_count": 14,
   "metadata": {},
   "outputs": [
    {
     "name": "stdout",
     "output_type": "stream",
     "text": [
      "[90, 120]\n"
     ]
    }
   ],
   "source": [
    "def somme_pair_impair(liste):\n",
    "    som_paire =0\n",
    "    som_impaire =0\n",
    "    for i,v in enumerate(liste):\n",
    "        if i % 2 == 0:\n",
    "            som_paire += v\n",
    "        else:\n",
    "            som_impaire += v\n",
    "    return[som_paire,som_impaire]\n",
    "\n",
    "liste = [10,20,30,40,50,60]\n",
    "print(somme_pair_impair(liste))"
   ]
  },
  {
   "cell_type": "markdown",
   "metadata": {},
   "source": [
    "exo 10"
   ]
  },
  {
   "cell_type": "code",
   "execution_count": null,
   "metadata": {
    "collapsed": true
   },
   "outputs": [],
   "source": []
  },
  {
   "cell_type": "markdown",
   "metadata": {},
   "source": [
    "exo 11"
   ]
  },
  {
   "cell_type": "code",
   "execution_count": 1,
   "metadata": {},
   "outputs": [
    {
     "name": "stdout",
     "output_type": "stream",
     "text": [
      "[11, 5, 55]\n"
     ]
    }
   ],
   "source": [
    "n =  [65, 54, 59,4]\n",
    "nn = []\n",
    "for i,v in enumerate(n):\n",
    "    if i+1 < len(n):\n",
    "        if n[i+1] < n[i]:\n",
    "            nn.append(n[i] - n[i+1])\n",
    "        elif n[i+1] > n[i]:\n",
    "            nn.append(n[i+1] - n[i])\n",
    "\n",
    "        #print(i, i+1)\n",
    "    else:\n",
    "        break\n",
    "print(nn[:])"
   ]
  },
  {
   "cell_type": "markdown",
   "metadata": {},
   "source": [
    "exo 12"
   ]
  },
  {
   "cell_type": "code",
   "execution_count": 1,
   "metadata": {},
   "outputs": [
    {
     "name": "stdout",
     "output_type": "stream",
     "text": [
      "[('a', 3), ('c', 2), ('d', 1), ('a', 2), ('d', 1)]\n"
     ]
    }
   ],
   "source": [
    "def lettre_successif_occurence(chaine):\n",
    "    occurence = []\n",
    "    #print(occurence)\n",
    "    nbre_occu = 0\n",
    "    len_ch = len(chaine)\n",
    "    #print(len_ch)\n",
    "    j = 0\n",
    "    i = 0\n",
    "\n",
    "    while((i <= len_ch-1)):\n",
    "        #print(f\"i={i} et le caractere est {chaine[i]}\")\n",
    "        while (chaine[i] == chaine[j]):\n",
    "            #print(f\"pour i={i} j={j} et le caractere est {chaine[j]}\")\n",
    "            nbre_occu +=1\n",
    "            #print(f\"nbr_occu={nbre_occu}\")\n",
    "\n",
    "            j +=1\n",
    "            if j == len_ch:\n",
    "                #print(\"break\")\n",
    "                break\n",
    "\n",
    "            #print(f\"j={j}\")\n",
    "\n",
    "        occu = (chaine[i],nbre_occu)\n",
    "        #print(f\"occu= {occu}\")\n",
    "        occurence.append(occu)\n",
    "        #print(occurence)\n",
    "        nbre_occu = 0\n",
    "\n",
    "        i =j\n",
    "        #print(f'i{i}')\n",
    "        \n",
    "    return occurence\n",
    "\n",
    "chaine = 'aaaccdaad'            \n",
    "print(lettre_successif_occurence(chaine))"
   ]
  },
  {
   "cell_type": "markdown",
   "metadata": {},
   "source": [
    "compter le nombre d'occurence total dans la chaine"
   ]
  },
  {
   "cell_type": "code",
   "execution_count": 1,
   "metadata": {},
   "outputs": [
    {
     "name": "stdout",
     "output_type": "stream",
     "text": [
      "[('a', 5), ('c', 2), ('d', 2)]\n"
     ]
    }
   ],
   "source": [
    "def nbre_occurence_total(chaine):\n",
    "    occurence = []\n",
    "    #print(occurence)\n",
    "    cha = \"\"\n",
    "    nbre_occu = 0\n",
    "\n",
    "    for i,v in enumerate(chaine):\n",
    "        if v not in cha:\n",
    "            cha += v\n",
    "\n",
    "    for k,v2 in enumerate(cha):\n",
    "        for i,v in enumerate(chaine):\n",
    "            if cha[k] == v:\n",
    "                nbre_occu += 1\n",
    "\n",
    "            else:\n",
    "                continue\n",
    "        occu = (cha[k],nbre_occu)\n",
    "        occurence.append(occu)\n",
    "        nbre_occu = 0\n",
    "    return occurence\n",
    "\n",
    "chaine = 'aaaccdaad'\n",
    "print(nbre_occurence_total(chaine))"
   ]
  },
  {
   "cell_type": "markdown",
   "metadata": {},
   "source": [
    "exo 13"
   ]
  },
  {
   "cell_type": "code",
   "execution_count": 1,
   "metadata": {},
   "outputs": [
    {
     "name": "stdout",
     "output_type": "stream",
     "text": [
      "Bienvenue dans notre restaurant !!!\n",
      "Menu du jour \n",
      "1) Burger prix 10\n",
      "2) Cafe prix 7\n",
      "3) Croissant prix 15\n",
      "Commande : burger\n",
      "Burger coute 10, total est : 10\n",
      "Commande : \n",
      "Merci !!\n"
     ]
    }
   ],
   "source": [
    "menu = {\"burger\":10, \"cafe\":7, \"croissant\":15}\n",
    "print(\"Bienvenue dans notre restaurant !!!\")\n",
    "print(\"Menu du jour \")\n",
    "i=0\n",
    "for k,v in menu.items():\n",
    "    i +=1\n",
    "    k = k.capitalize()\n",
    "    print(f\"{i}) {k} prix {v}\")\n",
    "\n",
    "\n",
    "def restaurant(total_prix = 0):\n",
    "    cmd = input(\"Commande : \")\n",
    "    commande = cmd.split()\n",
    "        \n",
    "    cmd = \" \".join(commande)\n",
    "    cmd = cmd.lower()\n",
    "    total = 0\n",
    "    \n",
    "    while(not(cmd == \"\")):\n",
    "        if cmd in menu:\n",
    "            total_prix += menu[cmd]\n",
    "            total = total_prix\n",
    "            cmd2 = cmd.capitalize()\n",
    "            print(f\"{cmd2} coute {menu[cmd]}, total est : {total_prix}\")\n",
    "           \n",
    "            cmd = input(\"Commande : \")\n",
    "            commande = cmd.split()\n",
    "\n",
    "            cmd = \" \".join(commande)\n",
    "            cmd = cmd.lower()\n",
    "            \n",
    "            \n",
    "        elif cmd not in menu and not(cmd == \"\"):\n",
    "            print(f\"Désolé, Nous n'offrons pas de {cmd} aujourd'hui !\")\n",
    "            print(\"Faites une autre commande \")\n",
    "            cmd = \"\"\n",
    "            restaurant(total)\n",
    "    print(\"Merci !!\")\n",
    "            \n",
    "\n",
    "\n",
    "restaurant()"
   ]
  },
  {
   "cell_type": "code",
   "execution_count": 2,
   "metadata": {},
   "outputs": [
    {
     "name": "stdout",
     "output_type": "stream",
     "text": [
      "Bienvenue dans notre restaurant !!!\n",
      "Menu du jour \n",
      "1) Burger prix 10\n",
      "2) Cafe prix 7\n",
      "3) Croissant prix 15\n",
      "Commande : \n",
      "Merci !!!\n"
     ]
    }
   ],
   "source": [
    "###########exo 13\n",
    "menu = {\"burger\":10, \"cafe\":7, \"croissant\":15}\n",
    "print(\"Bienvenue dans notre restaurant !!!\")\n",
    "print(\"Menu du jour \")\n",
    "i=0\n",
    "for k,v in menu.items():\n",
    "    i +=1\n",
    "    k = k.capitalize()\n",
    "    print(f\"{i}) {k} prix {v}\")\n",
    "\n",
    "\n",
    "\n",
    "\n",
    "    \n",
    "def restaurant(total_prix = 0):\n",
    "    cmd = input(\"Commande : \")\n",
    "    commande = cmd.split()\n",
    "\n",
    "    cmd = \" \".join(commande)\n",
    "    cmd = cmd.lower()\n",
    "\n",
    "    total = 0\n",
    "    if not(cmd == \"\"):\n",
    "        while(not(cmd == \"\")):\n",
    "            \n",
    "            if cmd in menu:\n",
    "                total_prix += menu[cmd]\n",
    "                total = total_prix\n",
    "                cmd2 = cmd.capitalize()\n",
    "\n",
    "                print(f\"{cmd2} coute {menu[cmd]}, total est : {total_prix}\")\n",
    "                cmd = input(\"Commande : \")\n",
    "                commande = cmd.split()\n",
    "\n",
    "                cmd = \" \".join(commande)\n",
    "                cmd = cmd.lower()\n",
    "\n",
    "            elif cmd not in menu and not(cmd == \"\"):\n",
    "                print(f\"Désolé, Nous n'offrons pas de {cmd} aujourd'hui !\")\n",
    "                print(\"Faites une autre commande \")\n",
    "                cmd = \"\"\n",
    "                restaurant(total)\n",
    "    elif cmd == \"\":\n",
    "        print(\"Merci !!!\")\n",
    "            \n",
    "\n",
    "\n",
    "restaurant()"
   ]
  },
  {
   "cell_type": "code",
   "execution_count": 3,
   "metadata": {},
   "outputs": [
    {
     "name": "stdout",
     "output_type": "stream",
     "text": [
      "Bienvenue dans notre restaurant !!!\n",
      "Menu du jour \n",
      "1) Burger prix 10\n",
      "2) Cafe prix 7\n",
      "3) Croissant prix 15\n",
      "Commande : \n",
      "Merci !!\n"
     ]
    }
   ],
   "source": [
    "########## exo 13 autres formes \n",
    "\n",
    "\n",
    "menu = {\"burger\":10, \"cafe\":7, \"croissant\":15}\n",
    "print(\"Bienvenue dans notre restaurant !!!\")\n",
    "print(\"Menu du jour \")\n",
    "i=0\n",
    "for k,v in menu.items():\n",
    "    i +=1\n",
    "    k = k.capitalize()\n",
    "    print(f\"{i}) {k} prix {v}\")\n",
    "\n",
    "\n",
    "def restaurant(total_prix = 0):\n",
    "    cmd = input(\"Commande : \")\n",
    "    commande = cmd.split()\n",
    "        \n",
    "    cmd = \" \".join(commande)\n",
    "    cmd = cmd.lower()\n",
    "    #total = 0\n",
    "    \n",
    "    while(not(cmd == \"\")):\n",
    "        if cmd in menu:\n",
    "            total_prix += menu[cmd]\n",
    "            total = total_prix\n",
    "            cmd2 = cmd.capitalize()\n",
    "            print(f\"{cmd2} coute {menu[cmd]}, total est : {total_prix}\")\n",
    "           \n",
    "            cmd = input(\"Commande : \")\n",
    "            commande = cmd.split()\n",
    "\n",
    "            cmd = \" \".join(commande)\n",
    "            cmd = cmd.lower()\n",
    "            \n",
    "            \n",
    "        elif cmd not in menu and not(cmd == \"\"):\n",
    "            print(f\"Désolé, Nous n'offrons pas de {cmd} aujourd'hui !\")\n",
    "            print(\"Faites une autre commande \")\n",
    "            cmd = \"\"\n",
    "            if 'total' in locals():\n",
    "                restaurant(total)\n",
    "            else:\n",
    "                restaurant()\n",
    "            \n",
    "\n",
    "\n",
    "restaurant()\n",
    "print(\"Merci !!\")"
   ]
  },
  {
   "cell_type": "markdown",
   "metadata": {},
   "source": [
    "exo 14"
   ]
  },
  {
   "cell_type": "code",
   "execution_count": 4,
   "metadata": {},
   "outputs": [
    {
     "name": "stdout",
     "output_type": "stream",
     "text": [
      "Python Airlines !!!\n",
      "Saisissez la ville : paris\n",
      "Saisissez le nombre d'heure : 2\n",
      "Saisissez la ville : nairobi\n",
      "Saisissez le nombre d'heure : 1\n",
      "Saisissez la ville : \n",
      "Liste des escales : \n",
      "1) Paris  nb d'heure : 2.0\n",
      "2) Nairobi  nb d'heure : 1.0\n",
      "Votre total d'heures d'escales est  3.0 heures\n",
      "Merci !!\n"
     ]
    }
   ],
   "source": [
    "ville = {}\n",
    "print(\"Python Airlines !!!\")\n",
    "i=0\n",
    "\n",
    "\n",
    "total_heure = 0\n",
    "vil = input(\"Saisissez la ville : \")\n",
    "vil2 = vil.split()\n",
    "vil = \" \".join(vil2)\n",
    "vil = vil.lower()\n",
    "    \n",
    "if (not(vil == \"\")):\n",
    "    nb_heure = float(input(\"Saisissez le nombre d'heure : \"))\n",
    "if (not(vil == \"\") and not(nb_heure == \"\")):\n",
    "        #ville = dict(vil = nb_heure)\n",
    "        ville[vil] = nb_heure\n",
    "        total_heure += nb_heure\n",
    "while (not(vil == \"\")):\n",
    "    vil = input(\"Saisissez la ville : \")\n",
    "    vil2 = vil.split()\n",
    "    vil = \" \".join(vil2)\n",
    "    vil = vil.lower()\n",
    "    \n",
    "    if (not(vil == \"\")):\n",
    "        nb_heure = float(input(\"Saisissez le nombre d'heure : \"))\n",
    "    else:\n",
    "        break\n",
    "                           \n",
    "    \n",
    "    #nb_heure2 = nb_heure.split()\n",
    "    #nb_heure = \" \".join(nb_heure2)\n",
    "    #nb_heure = nb_heure.lower()\n",
    "    if (not(vil == \"\") and not(nb_heure == \"\")):\n",
    "        #ville = dict(vil = nb_heure)\n",
    "        ville[vil] = nb_heure\n",
    "        total_heure += nb_heure\n",
    "  \n",
    "    \n",
    "\n",
    "print(\"Liste des escales : \")\n",
    "for k,v in ville.items():\n",
    "    i +=1\n",
    "    k = k.capitalize()\n",
    "    print(f\"{i}) {k}  nb d'heure : {v}\")\n",
    "\n",
    "if total_heure >1:\n",
    "    print(f\"Votre total d'heures d'escales est  {total_heure } heures\")\n",
    "else:\n",
    "    print(f\"Votre total d'heures d'escales est  {total_heure } heure\")\n",
    "    \n",
    "\n",
    "print(\"Merci !!\")\n"
   ]
  },
  {
   "cell_type": "markdown",
   "metadata": {},
   "source": [
    "exo 15"
   ]
  },
  {
   "cell_type": "code",
   "execution_count": 1,
   "metadata": {},
   "outputs": [
    {
     "name": "stdout",
     "output_type": "stream",
     "text": [
      "Le nombre de caractères est 507\n",
      "Le nombre de mots (séparé par des espaces) est  86\n",
      "Le nombre de lignes est 7\n",
      "Le nombre de mots distincts ('Oui' et 'oui' sont 2 mots uniques) est 61 (taille du vocabulaire du fichier)\n",
      "\n",
      "\n",
      "mot : Ceci nb  : 1\n",
      "mot : est nb  : 6\n",
      "mot : un nb  : 2\n",
      "mot : fichier nb  : 2\n",
      "mot : qui nb  : 2\n",
      "mot : censé nb  : 2\n",
      "mot : contenir nb  : 1\n",
      "mot : plusieurs nb  : 1\n",
      "mot : lignes nb  : 1\n",
      "mot : C'est nb  : 1\n",
      "mot : fascinant nb  : 1\n",
      "mot : les nb  : 2\n",
      "mot : choses nb  : 1\n",
      "mot : possibles nb  : 1\n",
      "mot : quand nb  : 1\n",
      "mot : on nb  : 2\n",
      "mot : sait nb  : 1\n",
      "mot : programmer nb  : 1\n",
      "mot : en nb  : 2\n",
      "mot : Python nb  : 4\n",
      "mot : ce nb  : 3\n",
      "mot : langage nb  : 2\n",
      "mot : devenu nb  : 1\n",
      "mot : depuis nb  : 1\n",
      "mot : moment nb  : 1\n",
      "mot : le nb  : 2\n",
      "mot : plus nb  : 2\n",
      "mot : utilisé nb  : 2\n",
      "mot : au nb  : 1\n",
      "mot : monde nb  : 1\n",
      "mot : beaucoup nb  : 2\n",
      "mot : intelligence nb  : 1\n",
      "mot : artificielle nb  : 1\n",
      "mot : et nb  : 1\n",
      "mot : dans nb  : 2\n",
      "mot : de nb  : 1\n",
      "mot : domaines nb  : 1\n",
      "mot : dont nb  : 1\n",
      "mot : ne nb  : 1\n",
      "mot : parlera nb  : 1\n",
      "mot : pas nb  : 1\n",
      "mot : Cette nb  : 1\n",
      "mot : formation nb  : 1\n",
      "mot : sur nb  : 1\n",
      "mot : vous nb  : 3\n",
      "mot : apprendre nb  : 1\n",
      "mot : bases nb  : 1\n",
      "mot : afin nb  : 1\n",
      "mot : que nb  : 1\n",
      "mot : évoluez nb  : 1\n",
      "mot : très nb  : 1\n",
      "mot : rapidement nb  : 1\n",
      "mot : tard. nb  : 1\n",
      "mot : Si nb  : 1\n",
      "mot : avez nb  : 1\n",
      "mot : aimé nb  : 1\n",
      "mot : bootcamp, nb  : 1\n",
      "mot : parlez-en nb  : 1\n",
      "mot : à nb  : 1\n",
      "mot : des nb  : 1\n",
      "mot : proches. nb  : 1\n"
     ]
    }
   ],
   "source": [
    "from collections import Counter\n",
    "chemin_fic = \"count.txt\"\n",
    "with open(chemin_fic, 'r') as f:\n",
    "    lines = f.readlines()\n",
    "    \n",
    "    \n",
    "nbre_line = len(lines)\n",
    "nbre_word = 0\n",
    "cara = 0\n",
    "space = 0\n",
    "nbre_unique_word = 0\n",
    "liste_word = []\n",
    "for k,line in enumerate(lines):\n",
    "    \n",
    "    for word in line.split():\n",
    "        nbre_word +=1\n",
    "        for caractere in word:\n",
    "            #print(caractere)\n",
    "            cara += 1\n",
    "            \n",
    "for k,line in enumerate(lines):\n",
    "    for word in line:\n",
    "        if word == ' ':\n",
    "            space +=1\n",
    "nbre_cara = space + cara\n",
    "\n",
    "liste_mot =[]\n",
    "for k,line in enumerate(lines):\n",
    "    for mot in line.split():\n",
    "        liste_mot.append(mot)\n",
    "        \n",
    "dict_de_mot_distinct = Counter(liste_mot)\n",
    "\n",
    "\n",
    "print(f\"Le nombre de caractères est {nbre_cara}\" )\n",
    "print(f\"Le nombre de mots (séparé par des espaces) est  {nbre_word}\")\n",
    "print(f\"Le nombre de lignes est {nbre_line}\")\n",
    "print(f\"Le nombre de mots distincts ('Oui' et 'oui' sont 2 mots uniques) est {len(dict_de_mot_distinct)} (taille du vocabulaire du fichier)\")\n",
    "\n",
    "\n",
    "print('\\n')\n",
    "for k,v in dict_de_mot_distinct.items():\n",
    "    print(f\"mot : {k} nb  : {v}\")"
   ]
  },
  {
   "cell_type": "markdown",
   "metadata": {},
   "source": [
    "exo 16"
   ]
  },
  {
   "cell_type": "code",
   "execution_count": 35,
   "metadata": {},
   "outputs": [
    {
     "name": "stdout",
     "output_type": "stream",
     "text": [
      "e-A/5\n"
     ]
    }
   ],
   "source": [
    "import random\n",
    "def password(nbr_caractere = len(liste_chaine)):\n",
    "    password = \"\"\n",
    "    for i in range(0,nbr_caractere):\n",
    "        password += liste_chaine[i]\n",
    "    #print(password)\n",
    "    return password\n",
    "def generateur_password(chaine):\n",
    "    global liste_chaine\n",
    "    liste_chaine = list(chaine)\n",
    "    #print(liste_chaine)\n",
    "    random.shuffle(liste_chaine)\n",
    "    #print(liste_chaine)\n",
    "    return password()\n",
    "\n",
    "\n",
    "\n",
    "chaine ='Aer5-/'\n",
    "\n",
    "password2 = generateur_password(chaine)\n",
    "#print(password2)\n",
    "mon_password = password(5)\n",
    "print(mon_password)"
   ]
  },
  {
   "cell_type": "markdown",
   "metadata": {},
   "source": [
    "exo 17"
   ]
  },
  {
   "cell_type": "code",
   "execution_count": 1,
   "metadata": {},
   "outputs": [
    {
     "name": "stdout",
     "output_type": "stream",
     "text": [
      "13.5\n",
      "oui\n",
      "12.8\n",
      "non\n"
     ]
    }
   ],
   "source": [
    "import bootcamp\n",
    "\n",
    "resultat = bootcamp.decision(python=15, numpy=12, pandas=14.6, matplotlib=18, abscence=2, niveau=2)\n",
    "print(resultat)\n",
    "resultat = bootcamp.decision(python=15, numpy=12, pandas=14.6, matplotlib=18, abscence=3, niveau=3)\n",
    "print(resultat)"
   ]
  },
  {
   "cell_type": "markdown",
   "metadata": {},
   "source": [
    "exo 18"
   ]
  },
  {
   "cell_type": "code",
   "execution_count": null,
   "metadata": {},
   "outputs": [],
   "source": [
    "import time\n",
    "class Vehicule:\n",
    "    def __init__(self,color, vitesse_max, distance_parcourue=0,vitesse_actuelle =0):\n",
    "        self.couleur = color\n",
    "        self.vitesse_maximum = vitesse_max\n",
    "        self.distance_parcourue = distance_parcourue\n",
    "        if vitesse_actuelle <= vitesse_max :\n",
    "            self.vitesse_actuelle = vitesse_actuelle\n",
    "        else:\n",
    "            self.vitesse_actuelle = vitesse_max\n",
    "    def accelerer(self):\n",
    "        num_of_sec = 120 \n",
    "        #la vitesse actuelle sera augmentée de 0.1 pendant 2 min si cette vitesse n'est pas supérieure à la vitesse maximal\n",
    "        while num_of_sec:\n",
    "            m, s = divmod(num_of_sec, 60)\n",
    "            min_sec_format = '{:02d}:{:02d}'.format(m, s)\n",
    "            print(min_sec_format)\n",
    "            time.sleep(1)\n",
    "            num_of_sec -= 1\n",
    "            if self.vitesse_actuelle < self.vitesse_maximum:\n",
    "                self.vitesse_actuelle += 0.1\n",
    "                self.vitesse_actuelle = round(self.vitesse_actuelle,1)\n",
    "                print(f'vitesse actuelle : {self.vitesse_actuelle}')\n",
    "            else:\n",
    "                self.vitesse_actuelle = self.vitesse_maximum\n",
    "                break\n",
    "        temps = ( (m * 60) + s ) / 3600 #temps en heure\n",
    "        self.distance_parcourue += self.vitesse_actuelle * temps #distance en km\n",
    "\n",
    "            \n",
    "    def ralentir(self):\n",
    "        num_of_sec = 120 \n",
    "        #la vitesse actuelle sera diminuée de 0. pendant 2 min si cette vitesse n'est pas inferieure à 0\n",
    "        while num_of_sec:\n",
    "            m, s = divmod(num_of_sec, 60)\n",
    "            min_sec_format = '{:02d}:{:02d}'.format(m, s)\n",
    "            print(min_sec_format)\n",
    "            time.sleep(1)\n",
    "            num_of_sec -= 1\n",
    "            if self.vitesse_actuelle > 0:\n",
    "                self.vitesse_actuelle -= 0.2\n",
    "                self.vitesse_actuelle = round(self.vitesse_actuelle,1)\n",
    "                print(f'vitesse actuelle : {self.vitesse_actuelle}')\n",
    "            else:\n",
    "                self.vitesse_actuelle = 0\n",
    "                break\n",
    "        temps = ( (m * 60) + s ) / 3600 #temps en heure\n",
    "        self.distance_parcourue += self.vitesse_actuelle * temps #distance en km\n",
    "        \n",
    "                \n",
    "    def arreter(self):\n",
    "        self.vitesse_actuelle = 0\n",
    "        \n",
    "    def __repr__(self): #cette fonct permet un affichage particulier\n",
    "        if self.vitesse_actuelle != 0 :\n",
    "            return f\"Ce véhicule a parcouru une distance de {self.distance_parcourue} et continue toujours sa route.\"\n",
    "        else:\n",
    "            return f\"Ce véhicule a parcouru une distance de {self.distance_parcourue} et est à l'arret.\"\n",
    "    \n",
    "v1 = Vehicule(color='bleu', vitesse_max=100, vitesse_actuelle =0.2)\n",
    "v1.accelerer()\n",
    "print(v1)"
   ]
  },
  {
   "cell_type": "code",
   "execution_count": null,
   "metadata": {},
   "outputs": [],
   "source": []
  }
 ],
 "metadata": {
  "kernelspec": {
   "display_name": "Python 3.9.12 ('base')",
   "language": "python",
   "name": "python3"
  },
  "language_info": {
   "codemirror_mode": {
    "name": "ipython",
    "version": 3
   },
   "file_extension": ".py",
   "mimetype": "text/x-python",
   "name": "python",
   "nbconvert_exporter": "python",
   "pygments_lexer": "ipython3",
   "version": "3.9.12"
  },
  "vscode": {
   "interpreter": {
    "hash": "aa0d5fa2ca2ff51e939da5f7be8d2a22e8f12749081eaf77dce642ee5b3bfec9"
   }
  }
 },
 "nbformat": 4,
 "nbformat_minor": 2
}
