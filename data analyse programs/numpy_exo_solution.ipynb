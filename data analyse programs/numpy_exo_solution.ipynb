{
 "cells": [
  {
   "cell_type": "code",
   "execution_count": 1,
   "id": "b6495e2c",
   "metadata": {},
   "outputs": [],
   "source": [
    "import numpy as np\n"
   ]
  },
  {
   "cell_type": "code",
   "execution_count": 2,
   "id": "fc66d536",
   "metadata": {},
   "outputs": [
    {
     "name": "stdout",
     "output_type": "stream",
     "text": [
      "Creer un tableau aléatoire de shape (3, 5)\n"
     ]
    }
   ],
   "source": [
    "print(\"Creer un tableau aléatoire de shape (3, 5)\")\n",
    "x = np.random.randint(20, size=(3,5))\n"
   ]
  },
  {
   "cell_type": "code",
   "execution_count": 3,
   "id": "b67a09e9",
   "metadata": {},
   "outputs": [
    {
     "name": "stdout",
     "output_type": "stream",
     "text": [
      "[[ 2  1  1 15  0]\n",
      " [15 11  6 10 18]\n",
      " [15  5 18 13 18]]\n"
     ]
    }
   ],
   "source": [
    "print(x)"
   ]
  },
  {
   "cell_type": "code",
   "execution_count": 4,
   "id": "c05db17c",
   "metadata": {},
   "outputs": [
    {
     "name": "stdout",
     "output_type": "stream",
     "text": [
      "Modifier le shape à (5, 3)\n",
      "[[ 2  1  1]\n",
      " [15  0 15]\n",
      " [11  6 10]\n",
      " [18 15  5]\n",
      " [18 13 18]]\n"
     ]
    }
   ],
   "source": [
    "print(\"Modifier le shape à (5, 3)\")\n",
    "x = x.reshape(5, 3)\n",
    "print(x)"
   ]
  },
  {
   "cell_type": "code",
   "execution_count": 5,
   "id": "446101c2",
   "metadata": {},
   "outputs": [
    {
     "name": "stdout",
     "output_type": "stream",
     "text": [
      "Est-ce que c'est possible de modifier le shape à (4, 5)  : non\n"
     ]
    }
   ],
   "source": [
    "print(\"Est-ce que c'est possible de modifier le shape à (4, 5)  : non\")"
   ]
  },
  {
   "cell_type": "code",
   "execution_count": 6,
   "id": "e8029c32",
   "metadata": {},
   "outputs": [
    {
     "name": "stdout",
     "output_type": "stream",
     "text": [
      "Creer un tableau qui contient les valeurs de 1 à 9 avec np.arange et donner lui un shape de (3, 3)\n"
     ]
    }
   ],
   "source": [
    "print(\"Creer un tableau qui contient les valeurs de 1 à 9 avec np.arange et donner lui un shape de (3, 3)\")\n",
    "y = np.arange(1,10).reshape((3,3))\n"
   ]
  },
  {
   "cell_type": "code",
   "execution_count": 7,
   "id": "8c24a9d8",
   "metadata": {},
   "outputs": [
    {
     "name": "stdout",
     "output_type": "stream",
     "text": [
      "[[1 2 3]\n",
      " [4 5 6]\n",
      " [7 8 9]]\n"
     ]
    }
   ],
   "source": [
    "print(y)"
   ]
  },
  {
   "cell_type": "code",
   "execution_count": 8,
   "id": "52c4d8cc",
   "metadata": {},
   "outputs": [
    {
     "name": "stdout",
     "output_type": "stream",
     "text": [
      "Faites la somme des 2 tableaux\n"
     ]
    },
    {
     "ename": "ValueError",
     "evalue": "operands could not be broadcast together with shapes (5,3) (3,3) ",
     "output_type": "error",
     "traceback": [
      "\u001b[0;31m---------------------------------------------------------------------------\u001b[0m",
      "\u001b[0;31mValueError\u001b[0m                                Traceback (most recent call last)",
      "Input \u001b[0;32mIn [8]\u001b[0m, in \u001b[0;36m<cell line: 2>\u001b[0;34m()\u001b[0m\n\u001b[1;32m      1\u001b[0m \u001b[38;5;28mprint\u001b[39m(\u001b[38;5;124m\"\u001b[39m\u001b[38;5;124mFaites la somme des 2 tableaux\u001b[39m\u001b[38;5;124m\"\u001b[39m)\n\u001b[0;32m----> 2\u001b[0m \u001b[38;5;28mprint\u001b[39m(\u001b[43mx\u001b[49m\u001b[43m \u001b[49m\u001b[38;5;241;43m+\u001b[39;49m\u001b[43m \u001b[49m\u001b[43my\u001b[49m)\n",
      "\u001b[0;31mValueError\u001b[0m: operands could not be broadcast together with shapes (5,3) (3,3) "
     ]
    }
   ],
   "source": [
    "print(\"Faites la somme des 2 tableaux\")\n",
    "print(x + y)"
   ]
  },
  {
   "cell_type": "code",
   "execution_count": 9,
   "id": "210378aa",
   "metadata": {},
   "outputs": [
    {
     "name": "stdout",
     "output_type": "stream",
     "text": [
      "Choisi un sous tableau aléatoire et extrait le\n"
     ]
    }
   ],
   "source": [
    "print(\"Choisi un sous tableau aléatoire et extrait le\")\n",
    "z = np.random.randint(20, size=(4,4))\n"
   ]
  },
  {
   "cell_type": "code",
   "execution_count": 10,
   "id": "273bfd55",
   "metadata": {},
   "outputs": [
    {
     "name": "stdout",
     "output_type": "stream",
     "text": [
      "[[12 16 15 19]\n",
      " [15  9  2  4]\n",
      " [18  8 12 11]\n",
      " [16  8  5  1]]\n",
      "extraction des indices 0,3 des lignes 0 et 3 de z\n",
      "[[12 19]\n",
      " [16  1]]\n"
     ]
    }
   ],
   "source": [
    "print(z)\n",
    "print(\"extraction des indices 0,3 des lignes 0 et 3 de z\")\n",
    "print(z[[[0],[3]], [0,3]])"
   ]
  },
  {
   "cell_type": "code",
   "execution_count": null,
   "id": "b68ee6be",
   "metadata": {},
   "outputs": [],
   "source": []
  }
 ],
 "metadata": {
  "kernelspec": {
   "display_name": "Python 3 (ipykernel)",
   "language": "python",
   "name": "python3"
  },
  "language_info": {
   "codemirror_mode": {
    "name": "ipython",
    "version": 3
   },
   "file_extension": ".py",
   "mimetype": "text/x-python",
   "name": "python",
   "nbconvert_exporter": "python",
   "pygments_lexer": "ipython3",
   "version": "3.9.12"
  }
 },
 "nbformat": 4,
 "nbformat_minor": 5
}
